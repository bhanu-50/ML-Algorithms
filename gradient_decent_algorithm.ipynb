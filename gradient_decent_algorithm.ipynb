{
  "nbformat": 4,
  "nbformat_minor": 0,
  "metadata": {
    "colab": {
      "provenance": [],
      "authorship_tag": "ABX9TyOnp3HCN3HSrPIAHrAFBDPg",
      "include_colab_link": true
    },
    "kernelspec": {
      "name": "python3",
      "display_name": "Python 3"
    },
    "language_info": {
      "name": "python"
    }
  },
  "cells": [
    {
      "cell_type": "markdown",
      "metadata": {
        "id": "view-in-github",
        "colab_type": "text"
      },
      "source": [
        "<a href=\"https://colab.research.google.com/github/bhanu-50/ML-Algorithms/blob/main/gradient_decent_algorithm.ipynb\" target=\"_parent\"><img src=\"https://colab.research.google.com/assets/colab-badge.svg\" alt=\"Open In Colab\"/></a>"
      ]
    },
    {
      "cell_type": "code",
      "execution_count": null,
      "metadata": {
        "id": "DQwuWRVImjCj"
      },
      "outputs": [],
      "source": [
        "import numpy as np\n",
        "import math"
      ]
    },
    {
      "cell_type": "code",
      "source": [
        "def loss_function(x): # function : (x-7)^2 - 7\n",
        "  return (x-7)**2-7"
      ],
      "metadata": {
        "id": "N06Fq2t5mz8b"
      },
      "execution_count": null,
      "outputs": []
    },
    {
      "cell_type": "code",
      "source": [
        "def grad(x):  # derivative\n",
        "  return 2*(x-7)"
      ],
      "metadata": {
        "id": "uZBldUpMm1tN"
      },
      "execution_count": null,
      "outputs": []
    },
    {
      "cell_type": "code",
      "source": [
        "def gradient_decent(x,lr = 0.1):\n",
        "    while True:\n",
        "      g = grad(x)\n",
        "      x = x - (lr*g)\n",
        "      if abs(grad(x))<0.01:\n",
        "         print(x,loss_function(x))\n",
        "         break"
      ],
      "metadata": {
        "id": "4CZIEAJfm2_V"
      },
      "execution_count": null,
      "outputs": []
    },
    {
      "cell_type": "code",
      "source": [
        "gradient_decent(4)"
      ],
      "metadata": {
        "colab": {
          "base_uri": "https://localhost:8080/"
        },
        "id": "qL3FjW1hm46a",
        "outputId": "376b40db-bd85-4cf9-fe63-be8bf197b6f9"
      },
      "execution_count": null,
      "outputs": [
        {
          "output_type": "stream",
          "name": "stdout",
          "text": [
            "6.9953577248526795 -6.999978449281457\n"
          ]
        }
      ]
    }
  ]
}